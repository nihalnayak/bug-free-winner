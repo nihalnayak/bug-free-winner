{
 "cells": [
  {
   "cell_type": "markdown",
   "metadata": {},
   "source": [
    "Multiome Data\n",
    "Multiome gene expression (GEX)\n",
    "Assay for Transposase-Accessible Chromatin (ATAC) datasets (ATAC)"
   ]
  },
  {
   "cell_type": "markdown",
   "metadata": {},
   "source": [
    "# ATAC to GEX"
   ]
  },
  {
   "cell_type": "code",
   "execution_count": 2,
   "metadata": {},
   "outputs": [],
   "source": [
    "import numpy as np\n",
    "import pandas as pd\n",
    "import logging\n",
    "from sklearn.decomposition import TruncatedSVD\n",
    "from sklearn.linear_model import LinearRegression\n",
    "from sklearn.metrics import mean_squared_error\n",
    "\n",
    "import os\n",
    "import scanpy as sc\n",
    "import anndata as ad\n",
    "import matplotlib.pyplot as plt"
   ]
  },
  {
   "cell_type": "code",
   "execution_count": 7,
   "metadata": {},
   "outputs": [],
   "source": [
    "multi_atac = ad.read_h5ad(\"/Users/xcyan/Desktop/scot/data/openproblems_bmmc_multiome_phase1_mod2/openproblems_bmmc_multiome_phase1_mod2.censor_dataset.output_train_mod1.h5ad\")\n",
    "multi_gex = ad.read_h5ad(\"/Users/xcyan/Desktop/scot/data/openproblems_bmmc_multiome_phase1_mod2/openproblems_bmmc_multiome_phase1_mod2.censor_dataset.output_train_mod2.h5ad\")\n",
    "multi_sol = ad.read_h5ad(\"/Users/xcyan/Desktop/scot/data/openproblems_bmmc_multiome_phase1_mod2/openproblems_bmmc_multiome_phase1_mod2.censor_dataset.output_train_sol.h5ad\")"
   ]
  },
  {
   "cell_type": "code",
   "execution_count": 10,
   "metadata": {},
   "outputs": [
    {
     "name": "stdout",
     "output_type": "stream",
     "text": [
      "The training ATAC data has 16394 observations and 116490 features.\n",
      "The training GEX data has 16394 observations and 13431 features.\n",
      "The training solution data has shape (16394, 16394).\n"
     ]
    }
   ],
   "source": [
    "print(f\"The training ATAC data has {multi_atac.n_obs} observations and {multi_atac.n_vars} features.\")\n",
    "print(f\"The training GEX data has {multi_gex.n_obs} observations and {multi_gex.n_vars} features.\")\n",
    "print(f\"The training solution data has shape {multi_sol.shape}.\")"
   ]
  },
  {
   "cell_type": "code",
   "execution_count": 10,
   "metadata": {},
   "outputs": [],
   "source": [
    "multi_atac_test = ad.read_h5ad(\"/Users/xcyan/Desktop/scot/data/openproblems_bmmc_multiome_phase1_mod2/openproblems_bmmc_multiome_phase1_mod2.censor_dataset.output_test_mod1.h5ad\")\n",
    "multi_gex_test = ad.read_h5ad(\"/Users/xcyan/Desktop/scot/data/openproblems_bmmc_multiome_phase1_mod2/openproblems_bmmc_multiome_phase1_mod2.censor_dataset.output_test_mod2.h5ad\")\n",
    "multi_sol_test = ad.read_h5ad(\"/Users/xcyan/Desktop/scot/data/openproblems_bmmc_multiome_phase1_mod2/openproblems_bmmc_multiome_phase1_mod2.censor_dataset.output_test_sol.h5ad\")"
   ]
  },
  {
   "cell_type": "code",
   "execution_count": 12,
   "metadata": {},
   "outputs": [
    {
     "data": {
      "text/plain": [
       "<6069x13431 sparse matrix of type '<class 'numpy.float64'>'\n",
       "\twith 8279241 stored elements in Compressed Sparse Column format>"
      ]
     },
     "execution_count": 12,
     "metadata": {},
     "output_type": "execute_result"
    }
   ],
   "source": [
    "multi_gex_test.layers[\"counts\"]"
   ]
  },
  {
   "cell_type": "code",
   "execution_count": 11,
   "metadata": {},
   "outputs": [
    {
     "name": "stdout",
     "output_type": "stream",
     "text": [
      "The testing ATAC data has 6069 observations and 116490 features.\n",
      "The testing GEX data has 6069 observations and 13431 features.\n",
      "The testing solution data has shape (6069, 6069).\n"
     ]
    }
   ],
   "source": [
    "print(f\"The testing ATAC data has {multi_atac_test.n_obs} observations and {multi_atac_test.n_vars} features.\")\n",
    "print(f\"The testing GEX data has {multi_gex_test.n_obs} observations and {multi_gex_test.n_vars} features.\")\n",
    "print(f\"The testing solution data has shape {multi_sol_test.shape}.\")"
   ]
  },
  {
   "cell_type": "code",
   "execution_count": null,
   "metadata": {},
   "outputs": [],
   "source": []
  },
  {
   "cell_type": "code",
   "execution_count": 13,
   "metadata": {},
   "outputs": [
    {
     "name": "stdout",
     "output_type": "stream",
     "text": [
      "(16394, 116490)\n",
      "[0. 0. 0. ... 0. 0. 0.]\n",
      "(116490,)\n"
     ]
    }
   ],
   "source": [
    "multi_atac_train_array=multi_atac.X.toarray()\n",
    "print(multi_atac_train_array.shape)\n",
    "print(multi_atac_train_array[1])\n",
    "print(multi_atac_train_array[1].shape)"
   ]
  },
  {
   "cell_type": "code",
   "execution_count": 14,
   "metadata": {},
   "outputs": [
    {
     "name": "stdout",
     "output_type": "stream",
     "text": [
      "(16394, 13431)\n",
      "(13431,)\n"
     ]
    }
   ],
   "source": [
    "multi_gex_train_array=multi_gex.X.toarray()\n",
    "print(multi_gex_train_array.shape)\n",
    "print(multi_gex_train_array[1].shape)"
   ]
  },
  {
   "cell_type": "code",
   "execution_count": 16,
   "metadata": {},
   "outputs": [
    {
     "data": {
      "text/html": [
       "<div>\n",
       "<style scoped>\n",
       "    .dataframe tbody tr th:only-of-type {\n",
       "        vertical-align: middle;\n",
       "    }\n",
       "\n",
       "    .dataframe tbody tr th {\n",
       "        vertical-align: top;\n",
       "    }\n",
       "\n",
       "    .dataframe thead th {\n",
       "        text-align: right;\n",
       "    }\n",
       "</style>\n",
       "<table border=\"1\" class=\"dataframe\">\n",
       "  <thead>\n",
       "    <tr style=\"text-align: right;\">\n",
       "      <th></th>\n",
       "      <th>gene_ids</th>\n",
       "      <th>feature_types</th>\n",
       "    </tr>\n",
       "  </thead>\n",
       "  <tbody>\n",
       "    <tr>\n",
       "      <th>AL627309.5</th>\n",
       "      <td>ENSG00000241860</td>\n",
       "      <td>GEX</td>\n",
       "    </tr>\n",
       "    <tr>\n",
       "      <th>LINC01409</th>\n",
       "      <td>ENSG00000237491</td>\n",
       "      <td>GEX</td>\n",
       "    </tr>\n",
       "    <tr>\n",
       "      <th>LINC01128</th>\n",
       "      <td>ENSG00000228794</td>\n",
       "      <td>GEX</td>\n",
       "    </tr>\n",
       "    <tr>\n",
       "      <th>NOC2L</th>\n",
       "      <td>ENSG00000188976</td>\n",
       "      <td>GEX</td>\n",
       "    </tr>\n",
       "    <tr>\n",
       "      <th>KLHL17</th>\n",
       "      <td>ENSG00000187961</td>\n",
       "      <td>GEX</td>\n",
       "    </tr>\n",
       "    <tr>\n",
       "      <th>...</th>\n",
       "      <td>...</td>\n",
       "      <td>...</td>\n",
       "    </tr>\n",
       "    <tr>\n",
       "      <th>MT-ND5</th>\n",
       "      <td>ENSG00000198786</td>\n",
       "      <td>GEX</td>\n",
       "    </tr>\n",
       "    <tr>\n",
       "      <th>MT-ND6</th>\n",
       "      <td>ENSG00000198695</td>\n",
       "      <td>GEX</td>\n",
       "    </tr>\n",
       "    <tr>\n",
       "      <th>MT-CYB</th>\n",
       "      <td>ENSG00000198727</td>\n",
       "      <td>GEX</td>\n",
       "    </tr>\n",
       "    <tr>\n",
       "      <th>AL592183.1</th>\n",
       "      <td>ENSG00000273748</td>\n",
       "      <td>GEX</td>\n",
       "    </tr>\n",
       "    <tr>\n",
       "      <th>AC240274.1</th>\n",
       "      <td>ENSG00000271254</td>\n",
       "      <td>GEX</td>\n",
       "    </tr>\n",
       "  </tbody>\n",
       "</table>\n",
       "<p>13431 rows × 2 columns</p>\n",
       "</div>"
      ],
      "text/plain": [
       "                   gene_ids feature_types\n",
       "AL627309.5  ENSG00000241860           GEX\n",
       "LINC01409   ENSG00000237491           GEX\n",
       "LINC01128   ENSG00000228794           GEX\n",
       "NOC2L       ENSG00000188976           GEX\n",
       "KLHL17      ENSG00000187961           GEX\n",
       "...                     ...           ...\n",
       "MT-ND5      ENSG00000198786           GEX\n",
       "MT-ND6      ENSG00000198695           GEX\n",
       "MT-CYB      ENSG00000198727           GEX\n",
       "AL592183.1  ENSG00000273748           GEX\n",
       "AC240274.1  ENSG00000271254           GEX\n",
       "\n",
       "[13431 rows x 2 columns]"
      ]
     },
     "execution_count": 16,
     "metadata": {},
     "output_type": "execute_result"
    }
   ],
   "source": [
    "multi_gex.var"
   ]
  },
  {
   "cell_type": "code",
   "execution_count": 17,
   "metadata": {},
   "outputs": [
    {
     "data": {
      "text/html": [
       "<div>\n",
       "<style scoped>\n",
       "    .dataframe tbody tr th:only-of-type {\n",
       "        vertical-align: middle;\n",
       "    }\n",
       "\n",
       "    .dataframe tbody tr th {\n",
       "        vertical-align: top;\n",
       "    }\n",
       "\n",
       "    .dataframe thead th {\n",
       "        text-align: right;\n",
       "    }\n",
       "</style>\n",
       "<table border=\"1\" class=\"dataframe\">\n",
       "  <thead>\n",
       "    <tr style=\"text-align: right;\">\n",
       "      <th></th>\n",
       "      <th>feature_types</th>\n",
       "    </tr>\n",
       "  </thead>\n",
       "  <tbody>\n",
       "    <tr>\n",
       "      <th>chr1-9776-10668</th>\n",
       "      <td>ATAC</td>\n",
       "    </tr>\n",
       "    <tr>\n",
       "      <th>chr1-180726-181005</th>\n",
       "      <td>ATAC</td>\n",
       "    </tr>\n",
       "    <tr>\n",
       "      <th>chr1-181117-181803</th>\n",
       "      <td>ATAC</td>\n",
       "    </tr>\n",
       "    <tr>\n",
       "      <th>chr1-191133-192055</th>\n",
       "      <td>ATAC</td>\n",
       "    </tr>\n",
       "    <tr>\n",
       "      <th>chr1-267562-268456</th>\n",
       "      <td>ATAC</td>\n",
       "    </tr>\n",
       "    <tr>\n",
       "      <th>...</th>\n",
       "      <td>...</td>\n",
       "    </tr>\n",
       "    <tr>\n",
       "      <th>GL000219.1-90062-90937</th>\n",
       "      <td>ATAC</td>\n",
       "    </tr>\n",
       "    <tr>\n",
       "      <th>GL000219.1-99257-100160</th>\n",
       "      <td>ATAC</td>\n",
       "    </tr>\n",
       "    <tr>\n",
       "      <th>KI270726.1-27152-28034</th>\n",
       "      <td>ATAC</td>\n",
       "    </tr>\n",
       "    <tr>\n",
       "      <th>KI270713.1-21434-22336</th>\n",
       "      <td>ATAC</td>\n",
       "    </tr>\n",
       "    <tr>\n",
       "      <th>KI270713.1-29629-30491</th>\n",
       "      <td>ATAC</td>\n",
       "    </tr>\n",
       "  </tbody>\n",
       "</table>\n",
       "<p>116490 rows × 1 columns</p>\n",
       "</div>"
      ],
      "text/plain": [
       "                        feature_types\n",
       "chr1-9776-10668                  ATAC\n",
       "chr1-180726-181005               ATAC\n",
       "chr1-181117-181803               ATAC\n",
       "chr1-191133-192055               ATAC\n",
       "chr1-267562-268456               ATAC\n",
       "...                               ...\n",
       "GL000219.1-90062-90937           ATAC\n",
       "GL000219.1-99257-100160          ATAC\n",
       "KI270726.1-27152-28034           ATAC\n",
       "KI270713.1-21434-22336           ATAC\n",
       "KI270713.1-29629-30491           ATAC\n",
       "\n",
       "[116490 rows x 1 columns]"
      ]
     },
     "execution_count": 17,
     "metadata": {},
     "output_type": "execute_result"
    }
   ],
   "source": [
    "multi_atac.var"
   ]
  },
  {
   "cell_type": "code",
   "execution_count": 18,
   "metadata": {},
   "outputs": [
    {
     "data": {
      "text/plain": [
       "'openproblems_bmmc_multiome_phase1_MM_atac2gex'"
      ]
     },
     "execution_count": 18,
     "metadata": {},
     "output_type": "execute_result"
    }
   ],
   "source": [
    "multi_gex.uns['dataset_id'] \n",
    "multi_adt.uns['dataset_id'] "
   ]
  },
  {
   "cell_type": "code",
   "execution_count": 19,
   "metadata": {},
   "outputs": [
    {
     "name": "stdout",
     "output_type": "stream",
     "text": [
      "(16394, 16394)\n",
      "[0. 0. 0. 0. 0. 0. 0. 0. 0. 0. 0. 0. 0. 0. 0. 0. 0. 0. 0.]\n"
     ]
    }
   ],
   "source": [
    "multi_sol_array=multi_sol.X.toarray()\n",
    "print(multi_sol_array.shape)\n",
    "print(multi_sol_array[1,1:20])"
   ]
  },
  {
   "cell_type": "code",
   "execution_count": 20,
   "metadata": {},
   "outputs": [
    {
     "name": "stdout",
     "output_type": "stream",
     "text": [
      "(6069, 6069)\n",
      "[0. 0. 0. 0. 0. 0. 0. 0. 0. 0. 0. 0. 0. 0. 0. 0. 0. 0. 0.]\n"
     ]
    }
   ],
   "source": [
    "multi_sol_test_array=multi_sol_test.X.toarray()\n",
    "print(multi_sol_test_array.shape)\n",
    "print(multi_sol_test_array[1,1:20])"
   ]
  },
  {
   "cell_type": "code",
   "execution_count": 21,
   "metadata": {},
   "outputs": [
    {
     "data": {
      "text/html": [
       "<div>\n",
       "<style scoped>\n",
       "    .dataframe tbody tr th:only-of-type {\n",
       "        vertical-align: middle;\n",
       "    }\n",
       "\n",
       "    .dataframe tbody tr th {\n",
       "        vertical-align: top;\n",
       "    }\n",
       "\n",
       "    .dataframe thead th {\n",
       "        text-align: right;\n",
       "    }\n",
       "</style>\n",
       "<table border=\"1\" class=\"dataframe\">\n",
       "  <thead>\n",
       "    <tr style=\"text-align: right;\">\n",
       "      <th></th>\n",
       "      <th>batch</th>\n",
       "    </tr>\n",
       "  </thead>\n",
       "  <tbody>\n",
       "    <tr>\n",
       "      <th>TAGTTGTCACCCTCAC-1-s1d1</th>\n",
       "      <td>s1d1</td>\n",
       "    </tr>\n",
       "    <tr>\n",
       "      <th>CTATGGCCATAACGGG-1-s1d1</th>\n",
       "      <td>s1d1</td>\n",
       "    </tr>\n",
       "    <tr>\n",
       "      <th>CCGCACACAGGTTAAA-1-s1d1</th>\n",
       "      <td>s1d1</td>\n",
       "    </tr>\n",
       "    <tr>\n",
       "      <th>TCATTTGGTAATGGAA-1-s1d1</th>\n",
       "      <td>s1d1</td>\n",
       "    </tr>\n",
       "    <tr>\n",
       "      <th>ACCACATAGGTGTCCA-1-s1d1</th>\n",
       "      <td>s1d1</td>\n",
       "    </tr>\n",
       "    <tr>\n",
       "      <th>...</th>\n",
       "      <td>...</td>\n",
       "    </tr>\n",
       "    <tr>\n",
       "      <th>TAGTAAGCAACTAGGG-8-s3d6</th>\n",
       "      <td>s3d6</td>\n",
       "    </tr>\n",
       "    <tr>\n",
       "      <th>TGGTCCTTCGGCTAGC-8-s3d6</th>\n",
       "      <td>s3d6</td>\n",
       "    </tr>\n",
       "    <tr>\n",
       "      <th>CGCTTGCGTTGTTGGA-8-s3d6</th>\n",
       "      <td>s3d6</td>\n",
       "    </tr>\n",
       "    <tr>\n",
       "      <th>ACCCTCCCAGCCAGTT-8-s3d6</th>\n",
       "      <td>s3d6</td>\n",
       "    </tr>\n",
       "    <tr>\n",
       "      <th>AGTGAACCATCCCGCT-8-s3d6</th>\n",
       "      <td>s3d6</td>\n",
       "    </tr>\n",
       "  </tbody>\n",
       "</table>\n",
       "<p>16394 rows × 1 columns</p>\n",
       "</div>"
      ],
      "text/plain": [
       "                        batch\n",
       "TAGTTGTCACCCTCAC-1-s1d1  s1d1\n",
       "CTATGGCCATAACGGG-1-s1d1  s1d1\n",
       "CCGCACACAGGTTAAA-1-s1d1  s1d1\n",
       "TCATTTGGTAATGGAA-1-s1d1  s1d1\n",
       "ACCACATAGGTGTCCA-1-s1d1  s1d1\n",
       "...                       ...\n",
       "TAGTAAGCAACTAGGG-8-s3d6  s3d6\n",
       "TGGTCCTTCGGCTAGC-8-s3d6  s3d6\n",
       "CGCTTGCGTTGTTGGA-8-s3d6  s3d6\n",
       "ACCCTCCCAGCCAGTT-8-s3d6  s3d6\n",
       "AGTGAACCATCCCGCT-8-s3d6  s3d6\n",
       "\n",
       "[16394 rows x 1 columns]"
      ]
     },
     "execution_count": 21,
     "metadata": {},
     "output_type": "execute_result"
    }
   ],
   "source": [
    "multi_sol.obs"
   ]
  },
  {
   "cell_type": "code",
   "execution_count": 22,
   "metadata": {},
   "outputs": [
    {
     "data": {
      "text/html": [
       "<div>\n",
       "<style scoped>\n",
       "    .dataframe tbody tr th:only-of-type {\n",
       "        vertical-align: middle;\n",
       "    }\n",
       "\n",
       "    .dataframe tbody tr th {\n",
       "        vertical-align: top;\n",
       "    }\n",
       "\n",
       "    .dataframe thead th {\n",
       "        text-align: right;\n",
       "    }\n",
       "</style>\n",
       "<table border=\"1\" class=\"dataframe\">\n",
       "  <thead>\n",
       "    <tr style=\"text-align: right;\">\n",
       "      <th></th>\n",
       "      <th>batch</th>\n",
       "    </tr>\n",
       "  </thead>\n",
       "  <tbody>\n",
       "    <tr>\n",
       "      <th>CTACCGGCAGTTGCGT-2-s1d2</th>\n",
       "      <td>s1d2</td>\n",
       "    </tr>\n",
       "    <tr>\n",
       "      <th>CCGCTAAAGGACCGCT-2-s1d2</th>\n",
       "      <td>s1d2</td>\n",
       "    </tr>\n",
       "    <tr>\n",
       "      <th>CTAACCACAGTTTGGC-2-s1d2</th>\n",
       "      <td>s1d2</td>\n",
       "    </tr>\n",
       "    <tr>\n",
       "      <th>CGAAGAATCGATTCTT-2-s1d2</th>\n",
       "      <td>s1d2</td>\n",
       "    </tr>\n",
       "    <tr>\n",
       "      <th>CTTTGTCCATACCCGG-2-s1d2</th>\n",
       "      <td>s1d2</td>\n",
       "    </tr>\n",
       "    <tr>\n",
       "      <th>...</th>\n",
       "      <td>...</td>\n",
       "    </tr>\n",
       "    <tr>\n",
       "      <th>CGCGATTCATCATGTG-2-s1d2</th>\n",
       "      <td>s1d2</td>\n",
       "    </tr>\n",
       "    <tr>\n",
       "      <th>AAGCATGAGCATGGTT-2-s1d2</th>\n",
       "      <td>s1d2</td>\n",
       "    </tr>\n",
       "    <tr>\n",
       "      <th>GAGAACCAGCAGGTGG-2-s1d2</th>\n",
       "      <td>s1d2</td>\n",
       "    </tr>\n",
       "    <tr>\n",
       "      <th>AGCTTCCTCCCTGGTT-2-s1d2</th>\n",
       "      <td>s1d2</td>\n",
       "    </tr>\n",
       "    <tr>\n",
       "      <th>AAGCATGAGGTCTTGG-2-s1d2</th>\n",
       "      <td>s1d2</td>\n",
       "    </tr>\n",
       "  </tbody>\n",
       "</table>\n",
       "<p>6069 rows × 1 columns</p>\n",
       "</div>"
      ],
      "text/plain": [
       "                        batch\n",
       "CTACCGGCAGTTGCGT-2-s1d2  s1d2\n",
       "CCGCTAAAGGACCGCT-2-s1d2  s1d2\n",
       "CTAACCACAGTTTGGC-2-s1d2  s1d2\n",
       "CGAAGAATCGATTCTT-2-s1d2  s1d2\n",
       "CTTTGTCCATACCCGG-2-s1d2  s1d2\n",
       "...                       ...\n",
       "CGCGATTCATCATGTG-2-s1d2  s1d2\n",
       "AAGCATGAGCATGGTT-2-s1d2  s1d2\n",
       "GAGAACCAGCAGGTGG-2-s1d2  s1d2\n",
       "AGCTTCCTCCCTGGTT-2-s1d2  s1d2\n",
       "AAGCATGAGGTCTTGG-2-s1d2  s1d2\n",
       "\n",
       "[6069 rows x 1 columns]"
      ]
     },
     "execution_count": 22,
     "metadata": {},
     "output_type": "execute_result"
    }
   ],
   "source": [
    "multi_sol_test.obs"
   ]
  },
  {
   "cell_type": "markdown",
   "metadata": {},
   "source": [
    "# GEX TO ATAC"
   ]
  },
  {
   "cell_type": "code",
   "execution_count": 23,
   "metadata": {},
   "outputs": [],
   "source": [
    "rna_atac = ad.read_h5ad(\"/Users/xcyan/Desktop/2952G_Project/starter_kit-match_modality-python/output/datasets/match_modality/openproblems_bmmc_multiome_phase1_rna/openproblems_bmmc_multiome_phase1_rna.censor_dataset.output_train_mod1.h5ad\")\n",
    "rna_gex = ad.read_h5ad(\"/Users/xcyan/Desktop/2952G_Project/starter_kit-match_modality-python/output/datasets/match_modality/openproblems_bmmc_multiome_phase1_rna/openproblems_bmmc_multiome_phase1_rna.censor_dataset.output_train_mod2.h5ad\")\n",
    "rna_sol = ad.read_h5ad(\"/Users/xcyan/Desktop/2952G_Project/starter_kit-match_modality-python/output/datasets/match_modality/openproblems_bmmc_multiome_phase1_rna/openproblems_bmmc_multiome_phase1_rna.censor_dataset.output_train_sol.h5ad\")"
   ]
  },
  {
   "cell_type": "code",
   "execution_count": 31,
   "metadata": {},
   "outputs": [
    {
     "name": "stdout",
     "output_type": "stream",
     "text": [
      "The training GEX data has 16394 observations and 13431 features.\n",
      "The training ATAC data has 16394 observations and 116490 features.\n",
      "The training solution data has shape (16394, 16394).\n"
     ]
    }
   ],
   "source": [
    "print(f\"The training GEX data has {rna_atac.n_obs} observations and {rna_atac.n_vars} features.\")\n",
    "print(f\"The training ATAC data has {rna_gex.n_obs} observations and {rna_gex.n_vars} features.\")\n",
    "print(f\"The training solution data has shape {rna_sol.shape}.\")"
   ]
  },
  {
   "cell_type": "code",
   "execution_count": 29,
   "metadata": {},
   "outputs": [],
   "source": [
    "rna_gex_test = ad.read_h5ad(\"/Users/xcyan/Desktop/2952G_Project/starter_kit-match_modality-python/output/datasets/match_modality/openproblems_bmmc_multiome_phase1_rna/openproblems_bmmc_multiome_phase1_rna.censor_dataset.output_test_mod1.h5ad\")\n",
    "rna_atac_test = ad.read_h5ad(\"/Users/xcyan/Desktop/2952G_Project/starter_kit-match_modality-python/output/datasets/match_modality/openproblems_bmmc_multiome_phase1_rna/openproblems_bmmc_multiome_phase1_rna.censor_dataset.output_test_mod2.h5ad\")\n",
    "rna_sol_test = ad.read_h5ad(\"/Users/xcyan/Desktop/2952G_Project/starter_kit-match_modality-python/output/datasets/match_modality/openproblems_bmmc_multiome_phase1_rna/openproblems_bmmc_multiome_phase1_rna.censor_dataset.output_test_sol.h5ad\")"
   ]
  },
  {
   "cell_type": "code",
   "execution_count": 30,
   "metadata": {},
   "outputs": [
    {
     "name": "stdout",
     "output_type": "stream",
     "text": [
      "The testing GEX data has 6069 observations and 13431 features.\n",
      "The testing ATAC data has 6069 observations and 116490 features.\n",
      "The testing solution data has shape (6069, 6069).\n"
     ]
    }
   ],
   "source": [
    "print(f\"The testing GEX data has {rna_gex_test.n_obs} observations and {rna_gex_test.n_vars} features.\")\n",
    "print(f\"The testing ATAC data has {rna_atac_test.n_obs} observations and {rna_atac_test.n_vars} features.\")\n",
    "print(f\"The testing solution data has shape {rna_sol_test.shape}.\")"
   ]
  },
  {
   "cell_type": "code",
   "execution_count": 33,
   "metadata": {},
   "outputs": [
    {
     "name": "stdout",
     "output_type": "stream",
     "text": [
      "(16394, 116490)\n",
      "[0. 0. 0. ... 0. 0. 0.]\n"
     ]
    }
   ],
   "source": [
    "rna_gex_array=rna_gex.X.toarray()\n",
    "print(rna_gex_array.shape)\n",
    "print(rna_gex_array[1])"
   ]
  },
  {
   "cell_type": "code",
   "execution_count": 34,
   "metadata": {},
   "outputs": [
    {
     "data": {
      "text/plain": [
       "'openproblems_bmmc_multiome_phase1_MM_gex2atac'"
      ]
     },
     "execution_count": 34,
     "metadata": {},
     "output_type": "execute_result"
    }
   ],
   "source": [
    "rna_gex.uns['dataset_id']"
   ]
  }
 ],
 "metadata": {
  "kernelspec": {
   "display_name": "Python 3",
   "language": "python",
   "name": "python3"
  },
  "language_info": {
   "codemirror_mode": {
    "name": "ipython",
    "version": 3
   },
   "file_extension": ".py",
   "mimetype": "text/x-python",
   "name": "python",
   "nbconvert_exporter": "python",
   "pygments_lexer": "ipython3",
   "version": "3.8.5"
  }
 },
 "nbformat": 4,
 "nbformat_minor": 4
}
