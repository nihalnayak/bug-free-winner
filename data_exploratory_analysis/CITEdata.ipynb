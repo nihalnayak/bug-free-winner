{
 "cells": [
  {
   "cell_type": "markdown",
   "metadata": {},
   "source": [
    "CITE Data\n",
    "CITE gene expresssion (GEX)\n",
    "CITE antibody derived tag protein (ADT)"
   ]
  },
  {
   "cell_type": "markdown",
   "metadata": {},
   "source": [
    "# ADT to GEX"
   ]
  },
  {
   "cell_type": "code",
   "execution_count": 1,
   "metadata": {},
   "outputs": [],
   "source": [
    "import numpy as np\n",
    "import pandas as pd\n",
    "import logging\n",
    "from sklearn.decomposition import TruncatedSVD\n",
    "from sklearn.linear_model import LinearRegression\n",
    "from sklearn.metrics import mean_squared_error\n",
    "\n",
    "import os\n",
    "import scanpy as sc\n",
    "import anndata as ad\n",
    "import matplotlib.pyplot as plt"
   ]
  },
  {
   "cell_type": "code",
   "execution_count": 5,
   "metadata": {},
   "outputs": [],
   "source": [
    "cite_adt = ad.read_h5ad(\"/Users/xcyan/Desktop/scot/data/openproblems_bmmc_cite_phase1_mod2/openproblems_bmmc_cite_phase1_mod2.censor_dataset.output_train_mod1.h5ad\")\n",
    "cite_gex = ad.read_h5ad(\"/Users/xcyan/Desktop/scot/data/openproblems_bmmc_cite_phase1_mod2/openproblems_bmmc_cite_phase1_mod2.censor_dataset.output_train_mod2.h5ad\")\n",
    "cite_sol = ad.read_h5ad(\"/Users/xcyan/Desktop/scot/data/openproblems_bmmc_cite_phase1_mod2/openproblems_bmmc_cite_phase1_mod2.censor_dataset.output_train_sol.h5ad\")"
   ]
  },
  {
   "cell_type": "code",
   "execution_count": 6,
   "metadata": {},
   "outputs": [
    {
     "name": "stdout",
     "output_type": "stream",
     "text": [
      "The training GEX data has 29077 observations and 134 features.\n",
      "The training ADT data has 29077 observations and 13953 features.\n",
      "The training solution data has shape (29077, 29077).\n"
     ]
    }
   ],
   "source": [
    "print(f\"The training GEX data has {cite_adt.n_obs} observations and {cite_adt.n_vars} features.\")\n",
    "print(f\"The training ADT data has {cite_gex.n_obs} observations and {cite_gex.n_vars} features.\")\n",
    "print(f\"The training solution data has shape {cite_sol.shape}.\")"
   ]
  },
  {
   "cell_type": "code",
   "execution_count": 9,
   "metadata": {},
   "outputs": [],
   "source": [
    "cite_adt_test= ad.read_h5ad(\"/Users/xcyan/Desktop/scot/data/openproblems_bmmc_cite_phase1_mod2/openproblems_bmmc_cite_phase1_mod2.censor_dataset.output_test_mod1.h5ad\")\n",
    "cite_gex_test = ad.read_h5ad(\"/Users/xcyan/Desktop/scot/data/openproblems_bmmc_cite_phase1_mod2/openproblems_bmmc_cite_phase1_mod2.censor_dataset.output_test_mod2.h5ad\")\n",
    "cite_sol_test = ad.read_h5ad(\"/Users/xcyan/Desktop/scot/data/openproblems_bmmc_cite_phase1_mod2/openproblems_bmmc_cite_phase1_mod2.censor_dataset.output_test_sol.h5ad\")"
   ]
  },
  {
   "cell_type": "code",
   "execution_count": 11,
   "metadata": {},
   "outputs": [
    {
     "name": "stdout",
     "output_type": "stream",
     "text": [
      "The testing ADT data has 14813 observations and 134 features.\n",
      "The testing GEX data has 14813 observations and 13953 features.\n",
      "The testing solution data has shape (14813, 14813).\n"
     ]
    }
   ],
   "source": [
    "print(f\"The testing ADT data has {cite_adt_test.n_obs} observations and {cite_adt_test.n_vars} features.\")\n",
    "print(f\"The testing GEX data has {cite_gex_test.n_obs} observations and {cite_gex_test.n_vars} features.\")\n",
    "print(f\"The testing solution data has shape {cite_sol_test.shape}.\")"
   ]
  },
  {
   "cell_type": "code",
   "execution_count": 15,
   "metadata": {},
   "outputs": [
    {
     "name": "stdout",
     "output_type": "stream",
     "text": [
      "(29077, 134)\n",
      "[1.2411374  0.27233985 0.9930009  0.83153933 0.7073151  2.604268\n",
      " 2.9432302  0.33823583 0.9065344  1.0725824  0.27233985 0.\n",
      " 0.8508219  0.04374797 1.3853375  1.994714   2.60757    1.9056884\n",
      " 1.1880476  0.04374797 0.83153933 1.5308796  0.08566201 1.1027225\n",
      " 2.926597   1.0255973  0.08566201 0.08566201 0.6388918  0.66222364\n",
      " 0.48616377 0.42959055 0.33823583 2.3580074  0.3058305  0.04374797\n",
      " 0.88830626 0.16456151 0.5397071  1.3964658  0.16456151 0.6150026\n",
      " 0.16456151 0.3058305  1.5405078  0.20179333 0.5654407  0.48616377\n",
      " 0.9930009  0.1258897  0.7504607  2.1977472  0.40005666 1.9123169\n",
      " 0.1258897  1.1319807  1.303766   1.5594906  1.8152623  0.6150026\n",
      " 0.72912055 0.27233985 0.3696239  0.27233985 1.9575262  1.2281269\n",
      " 1.471078   0.72912055 0.08566201 3.5211635  0.40005666 1.0255973\n",
      " 0.23768856 1.3853375  0.1258897  0.         1.0255973  0.33823583\n",
      " 0.9930009  0.3696239  1.8079556  0.16456151 1.6748033  2.2509353\n",
      " 0.3058305  0.4582772  0.83153933 0.9065344  0.16456151 0.88830626\n",
      " 0.72912055 2.274207   0.33823583 0.95930606 1.460754   0.3696239\n",
      " 1.5211577  0.59052867 2.5672097  0.16456151 2.3366265  0.23768856\n",
      " 1.8510157  0.1258897  0.3058305  2.6928322  0.3696239  3.5329924\n",
      " 0.8697397  0.59052867 0.27233985 0.9930009  0.04374797 1.4812967\n",
      " 0.16456151 2.454716   0.08566201 0.         0.3058305  0.27233985\n",
      " 0.1258897  0.4582772  0.27233985 0.42959055 0.33823583 2.7797523\n",
      " 0.7713549  1.1604071  1.6914202  0.8508219  0.7713549  2.0187593\n",
      " 0.72912055 1.9254438 ]\n",
      "(134,)\n"
     ]
    }
   ],
   "source": [
    "adt_train_array=cite_adt.X.toarray()\n",
    "print(adt_train_array.shape)\n",
    "print(adt_train_array[1])\n",
    "print(adt_train_array[1].shape)"
   ]
  },
  {
   "cell_type": "code",
   "execution_count": 33,
   "metadata": {},
   "outputs": [
    {
     "data": {
      "text/plain": [
       "(14813, 13953)"
      ]
     },
     "execution_count": 33,
     "metadata": {},
     "output_type": "execute_result"
    }
   ],
   "source": [
    "cite_gex_test.layers[\"counts\"].toarray().shape"
   ]
  },
  {
   "cell_type": "code",
   "execution_count": 32,
   "metadata": {},
   "outputs": [
    {
     "data": {
      "text/html": [
       "<div>\n",
       "<style scoped>\n",
       "    .dataframe tbody tr th:only-of-type {\n",
       "        vertical-align: middle;\n",
       "    }\n",
       "\n",
       "    .dataframe tbody tr th {\n",
       "        vertical-align: top;\n",
       "    }\n",
       "\n",
       "    .dataframe thead th {\n",
       "        text-align: right;\n",
       "    }\n",
       "</style>\n",
       "<table border=\"1\" class=\"dataframe\">\n",
       "  <thead>\n",
       "    <tr style=\"text-align: right;\">\n",
       "      <th></th>\n",
       "    </tr>\n",
       "  </thead>\n",
       "  <tbody>\n",
       "    <tr>\n",
       "      <th>cell_1</th>\n",
       "    </tr>\n",
       "    <tr>\n",
       "      <th>cell_2</th>\n",
       "    </tr>\n",
       "    <tr>\n",
       "      <th>cell_3</th>\n",
       "    </tr>\n",
       "    <tr>\n",
       "      <th>cell_4</th>\n",
       "    </tr>\n",
       "    <tr>\n",
       "      <th>cell_5</th>\n",
       "    </tr>\n",
       "    <tr>\n",
       "      <th>...</th>\n",
       "    </tr>\n",
       "    <tr>\n",
       "      <th>cell_14809</th>\n",
       "    </tr>\n",
       "    <tr>\n",
       "      <th>cell_14810</th>\n",
       "    </tr>\n",
       "    <tr>\n",
       "      <th>cell_14811</th>\n",
       "    </tr>\n",
       "    <tr>\n",
       "      <th>cell_14812</th>\n",
       "    </tr>\n",
       "    <tr>\n",
       "      <th>cell_14813</th>\n",
       "    </tr>\n",
       "  </tbody>\n",
       "</table>\n",
       "<p>14813 rows × 0 columns</p>\n",
       "</div>"
      ],
      "text/plain": [
       "Empty DataFrame\n",
       "Columns: []\n",
       "Index: [cell_1, cell_2, cell_3, cell_4, cell_5, cell_6, cell_7, cell_8, cell_9, cell_10, cell_11, cell_12, cell_13, cell_14, cell_15, cell_16, cell_17, cell_18, cell_19, cell_20, cell_21, cell_22, cell_23, cell_24, cell_25, cell_26, cell_27, cell_28, cell_29, cell_30, cell_31, cell_32, cell_33, cell_34, cell_35, cell_36, cell_37, cell_38, cell_39, cell_40, cell_41, cell_42, cell_43, cell_44, cell_45, cell_46, cell_47, cell_48, cell_49, cell_50, cell_51, cell_52, cell_53, cell_54, cell_55, cell_56, cell_57, cell_58, cell_59, cell_60, cell_61, cell_62, cell_63, cell_64, cell_65, cell_66, cell_67, cell_68, cell_69, cell_70, cell_71, cell_72, cell_73, cell_74, cell_75, cell_76, cell_77, cell_78, cell_79, cell_80, cell_81, cell_82, cell_83, cell_84, cell_85, cell_86, cell_87, cell_88, cell_89, cell_90, cell_91, cell_92, cell_93, cell_94, cell_95, cell_96, cell_97, cell_98, cell_99, cell_100, ...]\n",
       "\n",
       "[14813 rows x 0 columns]"
      ]
     },
     "execution_count": 32,
     "metadata": {},
     "output_type": "execute_result"
    }
   ],
   "source": [
    "cite_gex_test.obs"
   ]
  },
  {
   "cell_type": "code",
   "execution_count": 6,
   "metadata": {},
   "outputs": [
    {
     "name": "stdout",
     "output_type": "stream",
     "text": [
      "(29077, 13953)\n",
      "(13953,)\n"
     ]
    }
   ],
   "source": [
    "gex_train_array=cite_gex.X.toarray()\n",
    "print(gex_train_array.shape)\n",
    "print(gex_train_array[1].shape)"
   ]
  },
  {
   "cell_type": "code",
   "execution_count": 6,
   "metadata": {},
   "outputs": [
    {
     "data": {
      "text/html": [
       "<div>\n",
       "<style scoped>\n",
       "    .dataframe tbody tr th:only-of-type {\n",
       "        vertical-align: middle;\n",
       "    }\n",
       "\n",
       "    .dataframe tbody tr th {\n",
       "        vertical-align: top;\n",
       "    }\n",
       "\n",
       "    .dataframe thead th {\n",
       "        text-align: right;\n",
       "    }\n",
       "</style>\n",
       "<table border=\"1\" class=\"dataframe\">\n",
       "  <thead>\n",
       "    <tr style=\"text-align: right;\">\n",
       "      <th></th>\n",
       "      <th>feature_types</th>\n",
       "    </tr>\n",
       "  </thead>\n",
       "  <tbody>\n",
       "    <tr>\n",
       "      <th>CD86</th>\n",
       "      <td>ADT</td>\n",
       "    </tr>\n",
       "    <tr>\n",
       "      <th>CD274</th>\n",
       "      <td>ADT</td>\n",
       "    </tr>\n",
       "    <tr>\n",
       "      <th>CD270</th>\n",
       "      <td>ADT</td>\n",
       "    </tr>\n",
       "    <tr>\n",
       "      <th>CD155</th>\n",
       "      <td>ADT</td>\n",
       "    </tr>\n",
       "    <tr>\n",
       "      <th>CD112</th>\n",
       "      <td>ADT</td>\n",
       "    </tr>\n",
       "    <tr>\n",
       "      <th>...</th>\n",
       "      <td>...</td>\n",
       "    </tr>\n",
       "    <tr>\n",
       "      <th>HLA-E</th>\n",
       "      <td>ADT</td>\n",
       "    </tr>\n",
       "    <tr>\n",
       "      <th>CD82</th>\n",
       "      <td>ADT</td>\n",
       "    </tr>\n",
       "    <tr>\n",
       "      <th>CD101</th>\n",
       "      <td>ADT</td>\n",
       "    </tr>\n",
       "    <tr>\n",
       "      <th>CD88</th>\n",
       "      <td>ADT</td>\n",
       "    </tr>\n",
       "    <tr>\n",
       "      <th>CD224</th>\n",
       "      <td>ADT</td>\n",
       "    </tr>\n",
       "  </tbody>\n",
       "</table>\n",
       "<p>134 rows × 1 columns</p>\n",
       "</div>"
      ],
      "text/plain": [
       "      feature_types\n",
       "CD86            ADT\n",
       "CD274           ADT\n",
       "CD270           ADT\n",
       "CD155           ADT\n",
       "CD112           ADT\n",
       "...             ...\n",
       "HLA-E           ADT\n",
       "CD82            ADT\n",
       "CD101           ADT\n",
       "CD88            ADT\n",
       "CD224           ADT\n",
       "\n",
       "[134 rows x 1 columns]"
      ]
     },
     "execution_count": 6,
     "metadata": {},
     "output_type": "execute_result"
    }
   ],
   "source": [
    "cite_adt.var"
   ]
  },
  {
   "cell_type": "code",
   "execution_count": 20,
   "metadata": {},
   "outputs": [
    {
     "data": {
      "text/html": [
       "<div>\n",
       "<style scoped>\n",
       "    .dataframe tbody tr th:only-of-type {\n",
       "        vertical-align: middle;\n",
       "    }\n",
       "\n",
       "    .dataframe tbody tr th {\n",
       "        vertical-align: top;\n",
       "    }\n",
       "\n",
       "    .dataframe thead th {\n",
       "        text-align: right;\n",
       "    }\n",
       "</style>\n",
       "<table border=\"1\" class=\"dataframe\">\n",
       "  <thead>\n",
       "    <tr style=\"text-align: right;\">\n",
       "      <th></th>\n",
       "      <th>size_factors</th>\n",
       "    </tr>\n",
       "  </thead>\n",
       "  <tbody>\n",
       "    <tr>\n",
       "      <th>0</th>\n",
       "      <td>0.356535</td>\n",
       "    </tr>\n",
       "    <tr>\n",
       "      <th>1</th>\n",
       "      <td>1.292643</td>\n",
       "    </tr>\n",
       "    <tr>\n",
       "      <th>2</th>\n",
       "      <td>0.970558</td>\n",
       "    </tr>\n",
       "    <tr>\n",
       "      <th>3</th>\n",
       "      <td>1.232604</td>\n",
       "    </tr>\n",
       "    <tr>\n",
       "      <th>4</th>\n",
       "      <td>0.044585</td>\n",
       "    </tr>\n",
       "    <tr>\n",
       "      <th>...</th>\n",
       "      <td>...</td>\n",
       "    </tr>\n",
       "    <tr>\n",
       "      <th>29072</th>\n",
       "      <td>0.647419</td>\n",
       "    </tr>\n",
       "    <tr>\n",
       "      <th>29073</th>\n",
       "      <td>1.296868</td>\n",
       "    </tr>\n",
       "    <tr>\n",
       "      <th>29074</th>\n",
       "      <td>0.757679</td>\n",
       "    </tr>\n",
       "    <tr>\n",
       "      <th>29075</th>\n",
       "      <td>3.309557</td>\n",
       "    </tr>\n",
       "    <tr>\n",
       "      <th>29076</th>\n",
       "      <td>0.494980</td>\n",
       "    </tr>\n",
       "  </tbody>\n",
       "</table>\n",
       "<p>29077 rows × 1 columns</p>\n",
       "</div>"
      ],
      "text/plain": [
       "       size_factors\n",
       "0          0.356535\n",
       "1          1.292643\n",
       "2          0.970558\n",
       "3          1.232604\n",
       "4          0.044585\n",
       "...             ...\n",
       "29072      0.647419\n",
       "29073      1.296868\n",
       "29074      0.757679\n",
       "29075      3.309557\n",
       "29076      0.494980\n",
       "\n",
       "[29077 rows x 1 columns]"
      ]
     },
     "execution_count": 20,
     "metadata": {},
     "output_type": "execute_result"
    }
   ],
   "source": [
    "cite_gex.obs"
   ]
  },
  {
   "cell_type": "code",
   "execution_count": 30,
   "metadata": {},
   "outputs": [
    {
     "data": {
      "text/plain": [
       "<14813x13953 sparse matrix of type '<class 'numpy.float32'>'\n",
       "\twith 23026336 stored elements in Compressed Sparse Column format>"
      ]
     },
     "execution_count": 30,
     "metadata": {},
     "output_type": "execute_result"
    }
   ],
   "source": [
    "cite_gex_test.X"
   ]
  },
  {
   "cell_type": "code",
   "execution_count": 12,
   "metadata": {},
   "outputs": [
    {
     "data": {
      "text/html": [
       "<div>\n",
       "<style scoped>\n",
       "    .dataframe tbody tr th:only-of-type {\n",
       "        vertical-align: middle;\n",
       "    }\n",
       "\n",
       "    .dataframe tbody tr th {\n",
       "        vertical-align: top;\n",
       "    }\n",
       "\n",
       "    .dataframe thead th {\n",
       "        text-align: right;\n",
       "    }\n",
       "</style>\n",
       "<table border=\"1\" class=\"dataframe\">\n",
       "  <thead>\n",
       "    <tr style=\"text-align: right;\">\n",
       "      <th></th>\n",
       "      <th>batch</th>\n",
       "    </tr>\n",
       "  </thead>\n",
       "  <tbody>\n",
       "    <tr>\n",
       "      <th>GCATTAGCATAAGCGG-1-s1d1</th>\n",
       "      <td>s1d1</td>\n",
       "    </tr>\n",
       "    <tr>\n",
       "      <th>TACAGGTGTTAGAGTA-1-s1d1</th>\n",
       "      <td>s1d1</td>\n",
       "    </tr>\n",
       "    <tr>\n",
       "      <th>AGGATCTAGGTCTACT-1-s1d1</th>\n",
       "      <td>s1d1</td>\n",
       "    </tr>\n",
       "    <tr>\n",
       "      <th>GTAGAAAGTGACACAG-1-s1d1</th>\n",
       "      <td>s1d1</td>\n",
       "    </tr>\n",
       "    <tr>\n",
       "      <th>TCCGAAAAGGATCATA-1-s1d1</th>\n",
       "      <td>s1d1</td>\n",
       "    </tr>\n",
       "    <tr>\n",
       "      <th>...</th>\n",
       "      <td>...</td>\n",
       "    </tr>\n",
       "    <tr>\n",
       "      <th>TGTCCCAGTTAACAGA-1-s3d6</th>\n",
       "      <td>s3d6</td>\n",
       "    </tr>\n",
       "    <tr>\n",
       "      <th>AATTCCTTCCTAGCCT-1-s3d6</th>\n",
       "      <td>s3d6</td>\n",
       "    </tr>\n",
       "    <tr>\n",
       "      <th>CTCAAGAAGATCGCCC-1-s3d6</th>\n",
       "      <td>s3d6</td>\n",
       "    </tr>\n",
       "    <tr>\n",
       "      <th>TTGCCTGTCCCATACC-1-s3d6</th>\n",
       "      <td>s3d6</td>\n",
       "    </tr>\n",
       "    <tr>\n",
       "      <th>AGAACAATCCATTGCC-1-s3d6</th>\n",
       "      <td>s3d6</td>\n",
       "    </tr>\n",
       "  </tbody>\n",
       "</table>\n",
       "<p>29077 rows × 1 columns</p>\n",
       "</div>"
      ],
      "text/plain": [
       "                        batch\n",
       "GCATTAGCATAAGCGG-1-s1d1  s1d1\n",
       "TACAGGTGTTAGAGTA-1-s1d1  s1d1\n",
       "AGGATCTAGGTCTACT-1-s1d1  s1d1\n",
       "GTAGAAAGTGACACAG-1-s1d1  s1d1\n",
       "TCCGAAAAGGATCATA-1-s1d1  s1d1\n",
       "...                       ...\n",
       "TGTCCCAGTTAACAGA-1-s3d6  s3d6\n",
       "AATTCCTTCCTAGCCT-1-s3d6  s3d6\n",
       "CTCAAGAAGATCGCCC-1-s3d6  s3d6\n",
       "TTGCCTGTCCCATACC-1-s3d6  s3d6\n",
       "AGAACAATCCATTGCC-1-s3d6  s3d6\n",
       "\n",
       "[29077 rows x 1 columns]"
      ]
     },
     "execution_count": 12,
     "metadata": {},
     "output_type": "execute_result"
    }
   ],
   "source": [
    "cite_adt.obs"
   ]
  },
  {
   "cell_type": "code",
   "execution_count": 21,
   "metadata": {},
   "outputs": [
    {
     "data": {
      "text/html": [
       "<div>\n",
       "<style scoped>\n",
       "    .dataframe tbody tr th:only-of-type {\n",
       "        vertical-align: middle;\n",
       "    }\n",
       "\n",
       "    .dataframe tbody tr th {\n",
       "        vertical-align: top;\n",
       "    }\n",
       "\n",
       "    .dataframe thead th {\n",
       "        text-align: right;\n",
       "    }\n",
       "</style>\n",
       "<table border=\"1\" class=\"dataframe\">\n",
       "  <thead>\n",
       "    <tr style=\"text-align: right;\">\n",
       "      <th></th>\n",
       "      <th>batch</th>\n",
       "    </tr>\n",
       "  </thead>\n",
       "  <tbody>\n",
       "    <tr>\n",
       "      <th>GTAGCTACATCGCTCT-1-s1d2</th>\n",
       "      <td>s1d2</td>\n",
       "    </tr>\n",
       "    <tr>\n",
       "      <th>ATCGTAGCACAGCCAC-1-s1d2</th>\n",
       "      <td>s1d2</td>\n",
       "    </tr>\n",
       "    <tr>\n",
       "      <th>TCAGTTTGTTGCTGAT-1-s1d2</th>\n",
       "      <td>s1d2</td>\n",
       "    </tr>\n",
       "    <tr>\n",
       "      <th>AACCATGAGCTCGAAG-1-s1d2</th>\n",
       "      <td>s1d2</td>\n",
       "    </tr>\n",
       "    <tr>\n",
       "      <th>CATTGAGTCTGAATCG-1-s1d2</th>\n",
       "      <td>s1d2</td>\n",
       "    </tr>\n",
       "    <tr>\n",
       "      <th>...</th>\n",
       "      <td>...</td>\n",
       "    </tr>\n",
       "    <tr>\n",
       "      <th>GTGTAACCATTAAGCC-1-s3d7</th>\n",
       "      <td>s3d7</td>\n",
       "    </tr>\n",
       "    <tr>\n",
       "      <th>CAGCCAGCAACGCATT-1-s3d7</th>\n",
       "      <td>s3d7</td>\n",
       "    </tr>\n",
       "    <tr>\n",
       "      <th>TCAGCAAAGGTCGTAG-1-s3d7</th>\n",
       "      <td>s3d7</td>\n",
       "    </tr>\n",
       "    <tr>\n",
       "      <th>ATCACAGTCGCCAACG-1-s3d7</th>\n",
       "      <td>s3d7</td>\n",
       "    </tr>\n",
       "    <tr>\n",
       "      <th>TTATTGCAGGTAGCCA-1-s3d7</th>\n",
       "      <td>s3d7</td>\n",
       "    </tr>\n",
       "  </tbody>\n",
       "</table>\n",
       "<p>14813 rows × 1 columns</p>\n",
       "</div>"
      ],
      "text/plain": [
       "                        batch\n",
       "GTAGCTACATCGCTCT-1-s1d2  s1d2\n",
       "ATCGTAGCACAGCCAC-1-s1d2  s1d2\n",
       "TCAGTTTGTTGCTGAT-1-s1d2  s1d2\n",
       "AACCATGAGCTCGAAG-1-s1d2  s1d2\n",
       "CATTGAGTCTGAATCG-1-s1d2  s1d2\n",
       "...                       ...\n",
       "GTGTAACCATTAAGCC-1-s3d7  s3d7\n",
       "CAGCCAGCAACGCATT-1-s3d7  s3d7\n",
       "TCAGCAAAGGTCGTAG-1-s3d7  s3d7\n",
       "ATCACAGTCGCCAACG-1-s3d7  s3d7\n",
       "TTATTGCAGGTAGCCA-1-s3d7  s3d7\n",
       "\n",
       "[14813 rows x 1 columns]"
      ]
     },
     "execution_count": 21,
     "metadata": {},
     "output_type": "execute_result"
    }
   ],
   "source": [
    "cite_adt_test.obs"
   ]
  },
  {
   "cell_type": "code",
   "execution_count": 11,
   "metadata": {},
   "outputs": [
    {
     "data": {
      "text/html": [
       "<div>\n",
       "<style scoped>\n",
       "    .dataframe tbody tr th:only-of-type {\n",
       "        vertical-align: middle;\n",
       "    }\n",
       "\n",
       "    .dataframe tbody tr th {\n",
       "        vertical-align: top;\n",
       "    }\n",
       "\n",
       "    .dataframe thead th {\n",
       "        text-align: right;\n",
       "    }\n",
       "</style>\n",
       "<table border=\"1\" class=\"dataframe\">\n",
       "  <thead>\n",
       "    <tr style=\"text-align: right;\">\n",
       "      <th></th>\n",
       "      <th>size_factors</th>\n",
       "    </tr>\n",
       "  </thead>\n",
       "  <tbody>\n",
       "    <tr>\n",
       "      <th>0</th>\n",
       "      <td>0.356535</td>\n",
       "    </tr>\n",
       "    <tr>\n",
       "      <th>1</th>\n",
       "      <td>1.292643</td>\n",
       "    </tr>\n",
       "    <tr>\n",
       "      <th>2</th>\n",
       "      <td>0.970558</td>\n",
       "    </tr>\n",
       "    <tr>\n",
       "      <th>3</th>\n",
       "      <td>1.232604</td>\n",
       "    </tr>\n",
       "    <tr>\n",
       "      <th>4</th>\n",
       "      <td>0.044585</td>\n",
       "    </tr>\n",
       "    <tr>\n",
       "      <th>...</th>\n",
       "      <td>...</td>\n",
       "    </tr>\n",
       "    <tr>\n",
       "      <th>29072</th>\n",
       "      <td>0.647419</td>\n",
       "    </tr>\n",
       "    <tr>\n",
       "      <th>29073</th>\n",
       "      <td>1.296868</td>\n",
       "    </tr>\n",
       "    <tr>\n",
       "      <th>29074</th>\n",
       "      <td>0.757679</td>\n",
       "    </tr>\n",
       "    <tr>\n",
       "      <th>29075</th>\n",
       "      <td>3.309557</td>\n",
       "    </tr>\n",
       "    <tr>\n",
       "      <th>29076</th>\n",
       "      <td>0.494980</td>\n",
       "    </tr>\n",
       "  </tbody>\n",
       "</table>\n",
       "<p>29077 rows × 1 columns</p>\n",
       "</div>"
      ],
      "text/plain": [
       "       size_factors\n",
       "0          0.356535\n",
       "1          1.292643\n",
       "2          0.970558\n",
       "3          1.232604\n",
       "4          0.044585\n",
       "...             ...\n",
       "29072      0.647419\n",
       "29073      1.296868\n",
       "29074      0.757679\n",
       "29075      3.309557\n",
       "29076      0.494980\n",
       "\n",
       "[29077 rows x 1 columns]"
      ]
     },
     "execution_count": 11,
     "metadata": {},
     "output_type": "execute_result"
    }
   ],
   "source": [
    "cite_gex.obs"
   ]
  },
  {
   "cell_type": "code",
   "execution_count": 123,
   "metadata": {},
   "outputs": [
    {
     "data": {
      "text/plain": [
       "'openproblems_bmmc_cite_phase1_MM_adt2gex'"
      ]
     },
     "execution_count": 123,
     "metadata": {},
     "output_type": "execute_result"
    }
   ],
   "source": [
    "cite_gex.uns['dataset_id'] \n",
    "cite_adt.uns['dataset_id'] "
   ]
  },
  {
   "cell_type": "code",
   "execution_count": 124,
   "metadata": {},
   "outputs": [
    {
     "name": "stdout",
     "output_type": "stream",
     "text": [
      "(29077, 29077)\n",
      "[0. 0. 0. 0. 0. 0. 0. 0. 0. 0. 0. 0. 0. 0. 0. 0. 0. 0. 0.]\n"
     ]
    }
   ],
   "source": [
    "cite_sol_array=adata_sol.X.toarray()\n",
    "print(cite_sol_array.shape)\n",
    "print(cite_sol_array[1,1:20])"
   ]
  },
  {
   "cell_type": "code",
   "execution_count": 126,
   "metadata": {},
   "outputs": [
    {
     "name": "stdout",
     "output_type": "stream",
     "text": [
      "(14813, 14813)\n",
      "[0. 0. 0. 0. 0. 0. 0. 0. 0. 0. 0. 0. 0. 0. 0. 0. 0. 0. 0.]\n"
     ]
    }
   ],
   "source": [
    "cite_sol_test_array=adata_sol_test.X.toarray()\n",
    "print(adata_sol_test_array.shape)\n",
    "print(adata_sol_test_array[1,1:20])"
   ]
  },
  {
   "cell_type": "code",
   "execution_count": 1,
   "metadata": {},
   "outputs": [
    {
     "ename": "NameError",
     "evalue": "name 'cite_gex' is not defined",
     "output_type": "error",
     "traceback": [
      "\u001b[0;31m---------------------------------------------------------------------------\u001b[0m",
      "\u001b[0;31mNameError\u001b[0m                                 Traceback (most recent call last)",
      "\u001b[0;32m<ipython-input-1-f1d836777797>\u001b[0m in \u001b[0;36m<module>\u001b[0;34m\u001b[0m\n\u001b[0;32m----> 1\u001b[0;31m \u001b[0mcite_gex\u001b[0m\u001b[0;34m.\u001b[0m\u001b[0mobs\u001b[0m\u001b[0;34m\u001b[0m\u001b[0;34m\u001b[0m\u001b[0m\n\u001b[0m",
      "\u001b[0;31mNameError\u001b[0m: name 'cite_gex' is not defined"
     ]
    }
   ],
   "source": [
    "cite_gex.obs"
   ]
  },
  {
   "cell_type": "code",
   "execution_count": 128,
   "metadata": {},
   "outputs": [
    {
     "data": {
      "text/html": [
       "<div>\n",
       "<style scoped>\n",
       "    .dataframe tbody tr th:only-of-type {\n",
       "        vertical-align: middle;\n",
       "    }\n",
       "\n",
       "    .dataframe tbody tr th {\n",
       "        vertical-align: top;\n",
       "    }\n",
       "\n",
       "    .dataframe thead th {\n",
       "        text-align: right;\n",
       "    }\n",
       "</style>\n",
       "<table border=\"1\" class=\"dataframe\">\n",
       "  <thead>\n",
       "    <tr style=\"text-align: right;\">\n",
       "      <th></th>\n",
       "      <th>batch</th>\n",
       "    </tr>\n",
       "  </thead>\n",
       "  <tbody>\n",
       "    <tr>\n",
       "      <th>GTAGCTACATCGCTCT-1-s1d2</th>\n",
       "      <td>s1d2</td>\n",
       "    </tr>\n",
       "    <tr>\n",
       "      <th>ATCGTAGCACAGCCAC-1-s1d2</th>\n",
       "      <td>s1d2</td>\n",
       "    </tr>\n",
       "    <tr>\n",
       "      <th>TCAGTTTGTTGCTGAT-1-s1d2</th>\n",
       "      <td>s1d2</td>\n",
       "    </tr>\n",
       "    <tr>\n",
       "      <th>AACCATGAGCTCGAAG-1-s1d2</th>\n",
       "      <td>s1d2</td>\n",
       "    </tr>\n",
       "    <tr>\n",
       "      <th>CATTGAGTCTGAATCG-1-s1d2</th>\n",
       "      <td>s1d2</td>\n",
       "    </tr>\n",
       "    <tr>\n",
       "      <th>...</th>\n",
       "      <td>...</td>\n",
       "    </tr>\n",
       "    <tr>\n",
       "      <th>GTGTAACCATTAAGCC-1-s3d7</th>\n",
       "      <td>s3d7</td>\n",
       "    </tr>\n",
       "    <tr>\n",
       "      <th>CAGCCAGCAACGCATT-1-s3d7</th>\n",
       "      <td>s3d7</td>\n",
       "    </tr>\n",
       "    <tr>\n",
       "      <th>TCAGCAAAGGTCGTAG-1-s3d7</th>\n",
       "      <td>s3d7</td>\n",
       "    </tr>\n",
       "    <tr>\n",
       "      <th>ATCACAGTCGCCAACG-1-s3d7</th>\n",
       "      <td>s3d7</td>\n",
       "    </tr>\n",
       "    <tr>\n",
       "      <th>TTATTGCAGGTAGCCA-1-s3d7</th>\n",
       "      <td>s3d7</td>\n",
       "    </tr>\n",
       "  </tbody>\n",
       "</table>\n",
       "<p>14813 rows × 1 columns</p>\n",
       "</div>"
      ],
      "text/plain": [
       "                        batch\n",
       "GTAGCTACATCGCTCT-1-s1d2  s1d2\n",
       "ATCGTAGCACAGCCAC-1-s1d2  s1d2\n",
       "TCAGTTTGTTGCTGAT-1-s1d2  s1d2\n",
       "AACCATGAGCTCGAAG-1-s1d2  s1d2\n",
       "CATTGAGTCTGAATCG-1-s1d2  s1d2\n",
       "...                       ...\n",
       "GTGTAACCATTAAGCC-1-s3d7  s3d7\n",
       "CAGCCAGCAACGCATT-1-s3d7  s3d7\n",
       "TCAGCAAAGGTCGTAG-1-s3d7  s3d7\n",
       "ATCACAGTCGCCAACG-1-s3d7  s3d7\n",
       "TTATTGCAGGTAGCCA-1-s3d7  s3d7\n",
       "\n",
       "[14813 rows x 1 columns]"
      ]
     },
     "execution_count": 128,
     "metadata": {},
     "output_type": "execute_result"
    }
   ],
   "source": [
    "cite_sol_test.obs"
   ]
  },
  {
   "cell_type": "markdown",
   "metadata": {},
   "source": [
    "# GEX TO ADT"
   ]
  },
  {
   "cell_type": "code",
   "execution_count": 97,
   "metadata": {},
   "outputs": [],
   "source": [
    "rna_gex = ad.read_h5ad(\"/Users/xcyan/Desktop/2952G_Project/starter_kit-match_modality-python/output/datasets/match_modality/openproblems_bmmc_cite_phase1_rna/openproblems_bmmc_cite_phase1_rna.censor_dataset.output_train_mod1.h5ad\")\n",
    "rna_adt = ad.read_h5ad(\"/Users/xcyan/Desktop/2952G_Project/starter_kit-match_modality-python/output/datasets/match_modality/openproblems_bmmc_cite_phase1_rna/openproblems_bmmc_cite_phase1_rna.censor_dataset.output_train_mod2.h5ad\")\n",
    "rna_sol = ad.read_h5ad(\"/Users/xcyan/Desktop/2952G_Project/starter_kit-match_modality-python/output/datasets/match_modality/openproblems_bmmc_cite_phase1_rna/openproblems_bmmc_cite_phase1_rna.censor_dataset.output_train_sol.h5ad\")"
   ]
  },
  {
   "cell_type": "code",
   "execution_count": 96,
   "metadata": {},
   "outputs": [
    {
     "name": "stdout",
     "output_type": "stream",
     "text": [
      "The training RNA data has 29077 observations and 134 features.\n",
      "The training RNA data has 29077 observations and 13953 features.\n",
      "The training solution data has shape (29077, 29077).\n"
     ]
    }
   ],
   "source": [
    "print(f\"The training RNA data has {rna_gex.n_obs} observations and {rna_gex.n_vars} features.\")\n",
    "print(f\"The training RNA data has {rna_adt.n_obs} observations and {rna_adt.n_vars} features.\")\n",
    "print(f\"The training solution data has shape {rna_sol.shape}.\")"
   ]
  },
  {
   "cell_type": "code",
   "execution_count": 98,
   "metadata": {},
   "outputs": [
    {
     "data": {
      "text/html": [
       "<div>\n",
       "<style scoped>\n",
       "    .dataframe tbody tr th:only-of-type {\n",
       "        vertical-align: middle;\n",
       "    }\n",
       "\n",
       "    .dataframe tbody tr th {\n",
       "        vertical-align: top;\n",
       "    }\n",
       "\n",
       "    .dataframe thead th {\n",
       "        text-align: right;\n",
       "    }\n",
       "</style>\n",
       "<table border=\"1\" class=\"dataframe\">\n",
       "  <thead>\n",
       "    <tr style=\"text-align: right;\">\n",
       "      <th></th>\n",
       "      <th>feature_types</th>\n",
       "    </tr>\n",
       "  </thead>\n",
       "  <tbody>\n",
       "    <tr>\n",
       "      <th>CD86</th>\n",
       "      <td>ADT</td>\n",
       "    </tr>\n",
       "    <tr>\n",
       "      <th>CD274</th>\n",
       "      <td>ADT</td>\n",
       "    </tr>\n",
       "    <tr>\n",
       "      <th>CD270</th>\n",
       "      <td>ADT</td>\n",
       "    </tr>\n",
       "    <tr>\n",
       "      <th>CD155</th>\n",
       "      <td>ADT</td>\n",
       "    </tr>\n",
       "    <tr>\n",
       "      <th>CD112</th>\n",
       "      <td>ADT</td>\n",
       "    </tr>\n",
       "    <tr>\n",
       "      <th>...</th>\n",
       "      <td>...</td>\n",
       "    </tr>\n",
       "    <tr>\n",
       "      <th>HLA-E</th>\n",
       "      <td>ADT</td>\n",
       "    </tr>\n",
       "    <tr>\n",
       "      <th>CD82</th>\n",
       "      <td>ADT</td>\n",
       "    </tr>\n",
       "    <tr>\n",
       "      <th>CD101</th>\n",
       "      <td>ADT</td>\n",
       "    </tr>\n",
       "    <tr>\n",
       "      <th>CD88</th>\n",
       "      <td>ADT</td>\n",
       "    </tr>\n",
       "    <tr>\n",
       "      <th>CD224</th>\n",
       "      <td>ADT</td>\n",
       "    </tr>\n",
       "  </tbody>\n",
       "</table>\n",
       "<p>134 rows × 1 columns</p>\n",
       "</div>"
      ],
      "text/plain": [
       "      feature_types\n",
       "CD86            ADT\n",
       "CD274           ADT\n",
       "CD270           ADT\n",
       "CD155           ADT\n",
       "CD112           ADT\n",
       "...             ...\n",
       "HLA-E           ADT\n",
       "CD82            ADT\n",
       "CD101           ADT\n",
       "CD88            ADT\n",
       "CD224           ADT\n",
       "\n",
       "[134 rows x 1 columns]"
      ]
     },
     "execution_count": 98,
     "metadata": {},
     "output_type": "execute_result"
    }
   ],
   "source": [
    "rna_adt.var"
   ]
  },
  {
   "cell_type": "code",
   "execution_count": 129,
   "metadata": {},
   "outputs": [],
   "source": [
    "rna_gex_test = ad.read_h5ad(\"/Users/xcyan/Desktop/2952G_Project/starter_kit-match_modality-python/output/datasets/match_modality/openproblems_bmmc_cite_phase1_rna/openproblems_bmmc_cite_phase1_rna.censor_dataset.output_test_mod1.h5ad\")\n",
    "rna_adt_test = ad.read_h5ad(\"/Users/xcyan/Desktop/2952G_Project/starter_kit-match_modality-python/output/datasets/match_modality/openproblems_bmmc_cite_phase1_rna/openproblems_bmmc_cite_phase1_rna.censor_dataset.output_test_mod2.h5ad\")\n",
    "rna_sol_test = ad.read_h5ad(\"/Users/xcyan/Desktop/2952G_Project/starter_kit-match_modality-python/output/datasets/match_modality/openproblems_bmmc_cite_phase1_rna/openproblems_bmmc_cite_phase1_rna.censor_dataset.output_test_sol.h5ad\")"
   ]
  },
  {
   "cell_type": "code",
   "execution_count": 130,
   "metadata": {},
   "outputs": [
    {
     "name": "stdout",
     "output_type": "stream",
     "text": [
      "The testing GEX data has 14813 observations and 13953 features.\n",
      "The testing ADT data has 14813 observations and 134 features.\n",
      "The testing solution data has shape (14813, 14813).\n"
     ]
    }
   ],
   "source": [
    "print(f\"The testing GEX data has {rna_gex_test.n_obs} observations and {rna_gex_test.n_vars} features.\")\n",
    "print(f\"The testing ADT data has {rna_adt_test.n_obs} observations and {rna_adt_test.n_vars} features.\")\n",
    "print(f\"The testing solution data has shape {rna_sol_test.shape}.\")"
   ]
  },
  {
   "cell_type": "code",
   "execution_count": 131,
   "metadata": {},
   "outputs": [
    {
     "name": "stdout",
     "output_type": "stream",
     "text": [
      "(29077, 13953)\n",
      "[0. 0. 0. ... 0. 0. 0.]\n"
     ]
    }
   ],
   "source": [
    "rna_gex_array=rna_gex.X.toarray()\n",
    "print(rna_gex_array.shape)\n",
    "print(rna_gex_array[1])"
   ]
  },
  {
   "cell_type": "code",
   "execution_count": 134,
   "metadata": {},
   "outputs": [
    {
     "name": "stdout",
     "output_type": "stream",
     "text": [
      "(29077, 134)\n",
      "[0.         0.70202017 0.857432   0.         0.99190825 0.99190825\n",
      " 0.99190825 0.2921284  1.5543532  0.2921284  0.5179303  0.5179303\n",
      " 1.5543532  0.         0.         0.         1.2163731  2.094918\n",
      " 0.5179303  2.094918   0.857432   0.857432   0.         0.2921284\n",
      " 0.857432   0.2921284  0.         0.         1.2163731  1.1104255\n",
      " 0.99190825 0.70202017 0.2921284  0.         0.70202017 0.\n",
      " 0.2921284  0.         0.5179303  0.2921284  0.5179303  0.\n",
      " 0.2921284  0.2921284  0.         0.5179303  0.857432   0.70202017\n",
      " 0.2921284  0.         0.5179303  1.5543532  0.         0.2921284\n",
      " 0.2921284  0.         0.         1.9610732  0.70202017 1.9610732\n",
      " 0.         0.70202017 1.1104255  0.2921284  0.857432   0.\n",
      " 1.5543532  1.4799554  0.         1.9610732  0.5179303  0.857432\n",
      " 0.         0.70202017 0.         0.         1.2163731  0.2921284\n",
      " 0.5179303  1.1104255  0.70202017 0.99190825 0.70202017 0.\n",
      " 0.99190825 0.857432   1.7491738  0.70202017 0.         1.1104255\n",
      " 0.5179303  0.5179303  0.857432   0.2921284  1.3121632  0.\n",
      " 0.2921284  1.4799554  0.70202017 0.2921284  1.2163731  0.\n",
      " 0.2921284  0.         0.5179303  1.4799554  0.5179303  0.\n",
      " 0.         0.         0.2921284  0.5179303  0.2921284  1.2163731\n",
      " 0.70202017 0.857432   0.         0.2921284  0.5179303  0.70202017\n",
      " 0.857432   0.70202017 0.5179303  0.99190825 0.857432   0.2921284\n",
      " 0.         0.70202017 0.         0.70202017 0.2921284  0.70202017\n",
      " 1.2163731  0.857432  ]\n"
     ]
    }
   ],
   "source": [
    "rna_adt_array=rna_adt.X.toarray()\n",
    "print(rna_adt_array.shape)\n",
    "print(rna_adt_array[1])"
   ]
  },
  {
   "cell_type": "code",
   "execution_count": 132,
   "metadata": {},
   "outputs": [
    {
     "data": {
      "text/plain": [
       "'openproblems_bmmc_cite_phase1_MM_gex2adt'"
      ]
     },
     "execution_count": 132,
     "metadata": {},
     "output_type": "execute_result"
    }
   ],
   "source": [
    "rna_gex.uns['dataset_id']"
   ]
  },
  {
   "cell_type": "code",
   "execution_count": null,
   "metadata": {},
   "outputs": [],
   "source": []
  }
 ],
 "metadata": {
  "kernelspec": {
   "display_name": "Python 3",
   "language": "python",
   "name": "python3"
  },
  "language_info": {
   "codemirror_mode": {
    "name": "ipython",
    "version": 3
   },
   "file_extension": ".py",
   "mimetype": "text/x-python",
   "name": "python",
   "nbconvert_exporter": "python",
   "pygments_lexer": "ipython3",
   "version": "3.8.5"
  }
 },
 "nbformat": 4,
 "nbformat_minor": 4
}
